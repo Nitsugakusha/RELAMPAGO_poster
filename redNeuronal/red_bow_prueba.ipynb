{
 "cells": [
  {
   "cell_type": "markdown",
   "metadata": {},
   "source": [
    "# Detección de tweets meteorológicos con Bag of Words"
   ]
  },
  {
   "cell_type": "code",
   "execution_count": 77,
   "metadata": {},
   "outputs": [],
   "source": [
    "import torch\n",
    "import torch.autograd as autograd\n",
    "import torch.nn as nn\n",
    "import torch.nn.functional as F\n",
    "import torch.optim as optim\n",
    "\n",
    "import pandas as pd"
   ]
  },
  {
   "cell_type": "markdown",
   "metadata": {},
   "source": [
    "#### Cargo la base de datos clasificada y genero las variables de importancia"
   ]
  },
  {
   "cell_type": "code",
   "execution_count": 78,
   "metadata": {},
   "outputs": [],
   "source": [
    "tw = pd.read_csv('base_corr.csv')"
   ]
  },
  {
   "cell_type": "code",
   "execution_count": 79,
   "metadata": {},
   "outputs": [
    {
     "data": {
      "text/plain": [
       "Index(['Twit', 'Tag', 'Num'], dtype='object')"
      ]
     },
     "execution_count": 79,
     "metadata": {},
     "output_type": "execute_result"
    }
   ],
   "source": [
    "tw.keys()[-3:]"
   ]
  },
  {
   "cell_type": "code",
   "execution_count": 89,
   "metadata": {},
   "outputs": [],
   "source": [
    "msj = tw['Twit']\n",
    "tag = tw['Tag']\n",
    "num = tw['Num']"
   ]
  },
  {
   "cell_type": "code",
   "execution_count": 90,
   "metadata": {},
   "outputs": [
    {
     "data": {
      "text/plain": [
       "0                                         Esta lloviendo\n",
       "1      quiero ir al centro a la mañana pero seguro ll...\n",
       "2                   @paloma_CAI7 Si, llueve y mucho !! 😒\n",
       "3                       @rozalazar9 Si llueve les hago 🤗\n",
       "4      Hasta cuándo le voy a seguir teniendo miedo a ...\n",
       "5      13h ClimaRafaela: Temp. 20.9 °C, Hum. 48 %, Ba...\n",
       "6      @Eze2450 Sea la estación que sea , no hay plat...\n",
       "7      Llueve y no tengo Internet...me espera tremend...\n",
       "8                            Que linda noche de lluvia 💖\n",
       "9      Miércoles de mucho calor, previo a las lluvias...\n",
       "10     Me gusta cuando llueve porque parece que se es...\n",
       "11     Noviembre sin ti es sentir que la lluvia me di...\n",
       "12     17h Agvnet CDU: Temp. 32.4 °C, Hum. 33 %, Bar....\n",
       "13      Con esta lluvia me dieron ganas de cucharear ! 😏\n",
       "14                               Y se largo la lluvia ☔💕\n",
       "15                                  Que hermosa tormenta\n",
       "16                         @joaquinv17 dan lluvia jajaja\n",
       "17     Aseguran que hay stock suficiente de bengalas ...\n",
       "18     Aprobé un final con 8, tomé cervezas con amigo...\n",
       "19            Llueve pq Sebastian se levanto simpático😂😂\n",
       "20       @valenzampani Horrible todo. Por eso llueve así\n",
       "21     Mí padre dice que ahora se van a tener que pon...\n",
       "22     buena, que le pasaba al clima jajaja de donde ...\n",
       "23     Que onda?? Llueve, sale el sol, llueve, sale e...\n",
       "24                 Lo hermoso que son los días de lluvia\n",
       "25     Que vergüenza ver a otros humanos en bicicleta...\n",
       "26     Mi plan es dormirme escuchando los temas de fa...\n",
       "27     23h Agvnet CDU: Temp. 20.7 °C, Hum. 94 %, Bar....\n",
       "28                      Como me hace mambear esta lluvia\n",
       "29     Estaría para q venga una re tormenta y q dure ...\n",
       "                             ...                        \n",
       "98     Si la lluvia llega hasta aquí, voy a limitarme...\n",
       "99     Tremenda tormenta de la madrugada y ahora un s...\n",
       "100    Tendría que estar yendo a buscar la ropa de mi...\n",
       "101    Trueno v2.0. 2fast2furious. https://t.co/FpS7k...\n",
       "102    Si se puede jugar! Hubo ya una final con lluvi...\n",
       "103    Si llueve ahora por lo menos espero que mañana...\n",
       "104    @J1M1NCUTE @clau4805 @BTS_twt Frio😊 lluvia💖 az...\n",
       "105    Aerolíneas-La lluvia.(Según San Idiota) \\nConf...\n",
       "106    Queria ir a la pileta, llueve. Empece a ver un...\n",
       "107    @FraancoMiletich Jajajajajajaja es que últimam...\n",
       "108         Quiero alguien para pasar los días de lluvia\n",
       "109                                    Chica la tormenta\n",
       "110    LLUVIA DE MI VIDA TE AMO CON TODO MI CORAZÓN, ...\n",
       "111                                    Que linda lluvia😍\n",
       "112         @LautiMarchese Jajaja encima llueve a balde!\n",
       "113    Lo único que voy a ver a las 2 de la mañana es...\n",
       "114    De nuevo está lloviendo, siempre arruinando mi...\n",
       "115                                              Rayos 😔\n",
       "116    En la vida real le tengo miedo a los truenos. ...\n",
       "117          Le puli los rayos y todo, bastante la turra\n",
       "118                     dormir con lluvia♥ que maravilla\n",
       "119                      Llueve por qué gano Belgrano ?🤔\n",
       "120                                  Como loco si llueve\n",
       "121    Llueve!! BARADEL en el Tigre en la asamblea d ...\n",
       "122    Encima cuando quiero que llueva en temporada d...\n",
       "123    Las intensas lluvias generaron una creciente d...\n",
       "124    @LuddVeron Que hermoso es dormir bajo la lluvi...\n",
       "125    20h ClimaRafaela: Temp. 19.4 °C, Hum. 95 %, Ba...\n",
       "126    los truenos me estan dando alto miedo caen re ...\n",
       "127    Quien necesita un chongo con este clima, si lo...\n",
       "Name: Twit, Length: 128, dtype: object"
      ]
     },
     "execution_count": 90,
     "metadata": {},
     "output_type": "execute_result"
    }
   ],
   "source": [
    "msj"
   ]
  },
  {
   "cell_type": "markdown",
   "metadata": {},
   "source": [
    "#### Elimino las cosas innecesarias de msj"
   ]
  },
  {
   "cell_type": "code",
   "execution_count": 178,
   "metadata": {},
   "outputs": [],
   "source": [
    "def normalizacion(mensaje):\n",
    "    mensaje = list(mensaje)\n",
    "    lenght = len(mensaje)\n",
    "    lista_ascii = [['\\\\xe1', '\\\\xe9', '\\\\xed', '\\\\xf3', '\\\\xfa', '\\\\xf1', '\\\\xd1', '\\\\xc1','\\\\xc9', '\\\\xcd', '\\\\xd3', \n",
    "                 '\\\\xda', '\\\\xa1', '\\\\xbf', '\\\\xdc', '\\\\xfc', '\\\\xb4', '\\\\xba', '\\\\xaa', '\\\\xb7','\\\\xc7','\\\\xe7',\n",
    "                 '\\\\xa8'],['á', 'é', 'í', 'ó', 'ú', 'ñ', 'Ñ', 'Á', 'É', 'Í', 'Ó', 'Ú', '¡', '¿', 'Ü', 'ü', '´', \n",
    "                           'º', 'ª', '·','Ç','ç','¨']]\n",
    "    for i in range(lenght):\n",
    "        mensaje[i] = mensaje[i].replace('!','').replace('?','')\n",
    "        mensaje[i] = mensaje[i].encode('unicode-escape').decode('ASCII')\n",
    "    for i in range(lenght):\n",
    "        mensaje[i] = mensaje[i].replace('\\\\xe1', 'á').replace('\\\\xf1', 'ñ').replace('\\\\xa1', '').replace('\\\\xbf', '').replace('\\\\xc1', 'Á')\n",
    "    return(mensaje)"
   ]
  },
  {
   "cell_type": "code",
   "execution_count": 132,
   "metadata": {},
   "outputs": [
    {
     "data": {
      "text/plain": [
       "['Esta lloviendo',\n",
       " 'quiero ir al centro a la mañana pero seguro llueve jajajajaja',\n",
       " '@paloma_CAI7 Si, llueve y mucho  \\\\U0001f612',\n",
       " '@rozalazar9 Si llueve les hago \\\\U0001f917',\n",
       " 'Hasta cuándo le voy a seguir teniendo miedo a las tormentas \\\\U0001f644\\\\U0001f623',\n",
       " '13h ClimaRafaela: Temp. 20.9 \\\\xb0C, Hum. 48 %, Bar. 1010.1 mbar, Lluvia 0.2 mm, Viento 10.4 km/h SSO #Weathercloud',\n",
       " '@Eze2450 Sea la estaci\\\\xf3n que sea , no hay plata Y ahora llueve.. que te cambia Jajaja ten\\\\xe9s que estudiar igual',\n",
       " 'Llueve y no tengo Internet...me espera tremenda tarde',\n",
       " 'Que linda noche de lluvia \\\\U0001f496',\n",
       " 'Mi\\\\xe9rcoles de mucho calor, previo a las lluvias https://t.co/eFZV0fhc58',\n",
       " 'Me gusta cuando llueve porque parece que se estan fritando empanadas #PuesGorda \\\\U0001f602',\n",
       " 'Noviembre sin ti es sentir que la lluvia me dice llorando que todo acab\\\\xf3 \\\\U0001f3b5',\n",
       " '17h Agvnet CDU: Temp. 32.4 \\\\xb0C, Hum. 33 %, Bar. 997.3 hPa, Lluvia 0 mm, Viento 11.2 km/h SE #Weathercloud',\n",
       " 'Con esta lluvia me dieron ganas de cucharear  \\\\U0001f60f',\n",
       " 'Y se largo la lluvia \\\\u2614\\\\U0001f495',\n",
       " 'Que hermosa tormenta',\n",
       " '@joaquinv17 dan lluvia jajaja',\n",
       " 'Aseguran que hay stock suficiente de bengalas para combatir tormentas https://t.co/87eM3CTQSO',\n",
       " 'Aprob\\\\xe9 un final con 8, tom\\\\xe9 cervezas con amigos, estuve con mi novio, comi milanesa a la napolitana, me bañ\\\\xe9 con agua hirviendo y estoy por dormirme en sábanas limpias con la lluvia de fondo y mi gato al lado. Me siento más que realizada.',\n",
       " 'Llueve pq Sebastian se levanto simpático\\\\U0001f602\\\\U0001f602',\n",
       " '@valenzampani Horrible todo. Por eso llueve as\\\\xed',\n",
       " 'M\\\\xed padre dice que ahora se van a tener que poner a jugar. Yo mientras miro si se forma tormenta o no \\\\U0001f615',\n",
       " 'buena, que le pasaba al clima jajaja de donde salio esta lluvia',\n",
       " 'Que onda Llueve, sale el sol, llueve, sale el sol. El tiempo está mas loco que yo.',\n",
       " 'Lo hermoso que son los d\\\\xedas de lluvia',\n",
       " 'Que verg\\\\xfcenza ver a otros humanos en bicicleta buscando refugio en plena tormenta... Que poca alma bicicletera',\n",
       " 'Mi plan es dormirme escuchando los temas de fasciolo con el ruido de la lluvia de fondo y haciendo cucharita con mi gata',\n",
       " '23h Agvnet CDU: Temp. 20.7 \\\\xb0C, Hum. 94 %, Bar. 1010.6 hPa, Lluvia 0 mm, Viento 3.6 km/h NE #Weathercloud',\n",
       " 'Como me hace mambear esta lluvia',\n",
       " 'Estar\\\\xeda para q venga una re tormenta y q dure hasta mañana jajajajaja',\n",
       " '#VillaMaria 17:00 hs | Temp 32.4\\\\xb0C Min=21.0\\\\xb0C (05:16) Max=32.4\\\\xb0C (16:34) | Hum.40 | Viento 11.2 km/h ENE, Pres.986.2 hpa Lluvia   0.0 mm',\n",
       " '@alberto_rsaa Sin dudas usted gobernador querido es el mejor Piloto de tormentas ',\n",
       " 'En santa fe llueve',\n",
       " 'Adivinen quien se moj\\\\xf3 Gracias tormenta',\n",
       " 'Me ha gustado un v\\\\xeddeo de @YouTube (https://t.co/y2adZVgXvD - **TEMPORADA 7** SE ACERCA UNA TORMENTA FORTNITE: Battle Royale).',\n",
       " 'reci\\\\xe9n me despierto de la siesta ...con esta lluvia quien no duerme , igual hubiera estado más piola si dorm\\\\xedamos la siesta juntos ahre',\n",
       " 'Sos hermosa\\\\U0001f60d \\\\u2014 Abran los paraguas para la lluvia de datos https://t.co/VYXFOWRooI',\n",
       " 'Netflix + lluvia = perfeccion',\n",
       " '@LuchoCabj101 Aaaaay si boludo,que tormenta horrible',\n",
       " 'me cans\\\\xf3 la lluvia',\n",
       " 'Ojalá me pusiera mimosa... la lluvia me pone más gorda de lo que soy https://t.co/0EEk04CLD3',\n",
       " 'Que hermosa lluvia\\\\U0001f495',\n",
       " 'Vieron que en C\\\\xf3rdoba hay gente estudiando las tormentas. Bueno, creo que con esta hac\\\\xedan la tesis',\n",
       " 'El tiempo #en Santa Fe:\\\\nBarrio Constituyentes\\\\nT: 25.3\\\\xb0C\\\\nH: 21%\\\\nST: 25.3\\\\xb0C\\\\nP: 1016.1hPa\\\\nLluvia hoy: 0.0mm.',\n",
       " 'No se , pero yo amo dormir con lluvia man',\n",
       " '13h Agvnet CDU: Temp. 22.7 \\\\xb0C, Hum. 44 %, Bar. 1014.4 hPa, Lluvia 0 mm, Viento 7.2 km/h NE #Weathercloud',\n",
       " 'Que la lluvia pase de largooooo, quiero salir manga de forros',\n",
       " 'Se levant\\\\xf3 tormenta de un rato a otro',\n",
       " 'Salir al patio y escuchar los truenos en Dolby Surround 7.1 jajaja',\n",
       " 'Lea en Estaci\\\\xf3nPlus:Anuncian hasta 40\\\\xb0 y más de 100 mm de lluvias en Entre R\\\\xedos este fin de año: Advierten por fen\\\\xf3menos meteorol\\\\xf3gicos de alto impacto en los pr\\\\xf3ximos d\\\\xedas. El 2019 empezará lluvioso. Mirá el informe especial para la provincia y la regi\\\\xf3n https://t.co/u0PNOEPbIX https://t.co/kiRKECaYmS',\n",
       " 'Encima q lindo andar bajo la lluvia \\\\U0001f60d\\\\U0001f60d\\\\U0001f60d\\\\U0001f60d q feo el calor del departamento \\\\U0001f62d\\\\U0001f62d\\\\U0001f62d\\\\U0001f62d',\n",
       " 'Datos actuales en #SantaFe\\\\nBarrio Candioti Norte:\\\\nT: 20.9\\\\xb0C\\\\nH: 79%\\\\nST: 20.9\\\\xb0C\\\\nP: 1008.1hpa\\\\nLluvia hoy: 9.0mm',\n",
       " 'Uno de los placeres de la vida... Dormir mientras llueve\\\\U0001f49e',\n",
       " 'Hay que dormir nomas dice la lluvia',\n",
       " '@Fernandofr333 @Apuntes_ El video es otro tema, porque depende de la complejidad que quiera darle al archivo. Si son s\\\\xf3lo fotos o si son videos.\\\\n\\\\nMañana paso data porque estoy bajo tormenta de LPM y se corta la luz q cada rato... https://t.co/J6ti4cHrRV',\n",
       " '@camilasanchezn Es el uno , cuando wos , cacha , trueno, etc. Estaban en el quinto el y Dtoke ya estaban en la red bulls Inter. Una bestia jaja',\n",
       " 'Que ganas de hacer cucharita con mi wacho con esta lluvia',\n",
       " 'Ya sabemos que llueve, manga de forros',\n",
       " 're xxl la lluvia',\n",
       " 'Venia del gym en plena tormenta re relajada, me cruza un hombre y me dice \"corre que se vienen las piedras\" cai en que pod\\\\xeda ser posible y empec\\\\xe9 a correr jajajajajaja',\n",
       " 'Por fin lluvia hdp',\n",
       " 'tengo ganas de salir a bicicletear pero viendo sus fotos y v\\\\xeddeos de piedras y lluvia me dio miedo. Es su culpa jeje ahre',\n",
       " 'Dormi lindo che, te extrañaba lluvia',\n",
       " 'El miedo que le agarre a las tormentas de noche \\\\U0001f613',\n",
       " 'Vete de aqu\\\\xed tormenta.',\n",
       " 'Y lleg\\\\xf3 la tan ansiada lluvia \\\\U0001f600',\n",
       " 'Alguien está escuchando esos truenos',\n",
       " 'Se ve que la tormenta fue copada porque Tiro el árbol locoooooo',\n",
       " 'a una hora de ir a trabajar, y llueve como locos en camilo aldao',\n",
       " 'Mi viejo que cae un rayo y corta la luz',\n",
       " 'Haganse el favor de salir a mirar el cielo, que belleza.\\\\nCasi no se ve la lluvia de estrellas, pero igual el cielo esta lleno',\n",
       " 'Los d\\\\xedas de lluvia\\\\U0001f60d',\n",
       " 'Ancohe me despert\\\\xe9 por un rayo y lo primero que pens\\\\xe9 fue OIGAN MUCHAHO ECUCHARON EL REMPALAGO Tengo la mente matada ya',\n",
       " 'Se larga la lluvia. Fijar este tuit https://t.co/beFY90qKxK',\n",
       " 'No s\\\\xe9 a mi la lluvia no me motiva para nada a estudiar, solo quiero dormir',\n",
       " 'Estamos en una \\\\xe9poca en que nos chupa un huevo el otro, donde s\\\\xf3lo nos importa cagarnos en el esfuerzo que hacen, en su persona y NOS CHUPA UN HUEVO c\\\\xf3mo se sienta, si total, yo estoy bien, el resto... que lo parta un rayo',\n",
       " 'si llueve ya saben porque es, estoy yendo al colegio',\n",
       " 'DATO DE LLUVIA CA\\\\xcdDA EN GUALEGUAY  53',\n",
       " '@Flawless_swan Ssssshhh deja la lluvia tranquila para los que vamos a dormir siesta \\\\U0001f61d',\n",
       " 'Ta para desmayarse con esta lluvia',\n",
       " 'Amo ver c\\\\xf3mo están las canchas con la lluvia para mi es admirable ver c\\\\xf3mo con tanta lluvia algunos campos están impecables',\n",
       " 'como no te cae un rayo en la cabeza la re concha de tu madre https://t.co/XxZHS9BqZ1',\n",
       " '\\\\U0001f327 La imagen satelital de esta mañana del @SMN_Argentina muestra un gran frente de tormenta que abarca el sur de Santa Fe, la provincia de Entre Rios y el noreste de la provincia de Buenos Aires.\\\\n\\\\n\\\\u2600 Clima despejado para el resto de las zonas productoras.\\\\n\\\\n\\\\xbb (1/2) https://t.co/LhujSXJgdE',\n",
       " 'Ya veo que se va a largar a llover o cuando salga de mi casa o cuando este volviendo, porque la lluvia me odiaaa\\\\U0001f926\\\\U0001f3fc',\n",
       " '14h Agvnet CDU: Temp. 23.9 \\\\xb0C, Hum. 45 %, Bar. 1012.7 hPa, Lluvia 0 mm, Viento 14.8 km/h N #Weathercloud',\n",
       " 'Que ganas de estar con mi vida viendo peliculas mientras escuchando como llueve',\n",
       " 'Ay esta lluvia que no quiere parar che \\\\U0001f649',\n",
       " 'Ke lluvia re culiadaw',\n",
       " 'Un hermoso d\\\\xeda el de hoy \\\\nAy Qu\\\\xe9 bello d\\\\xeda es hoy \\\\nestá para desatar nuestra tormenta \\\\nque va a tronar por el dolor.',\n",
       " 'Maldigo las veredas hechas mierdas en momentos de lluvia \\\\U0001f620\\\\U0001f611',\n",
       " '@danielamachuca es que ESTAMOS BRASIL. Llueve con el calor a 30 grados y el SOL mirándote as\\\\xed \\\\U0001f31d',\n",
       " 'Para que anduve en la klx ahora tengo ganas de prenderla fuego a la tornado',\n",
       " '@GabyObelar1 @LaCabalaRadio Seguro  Tormenta el\\\\xe9ctrica...',\n",
       " 'Lluvia y la re calcada concha de tu madre \\\\U0001f624\\\\U0001f62d',\n",
       " 'Pedido solidario para afectados por las lluvias https://t.co/D0skY9PhQl',\n",
       " '@AyeRiveroo Es porque en un rato llega la tormenta de facha a Paraná ',\n",
       " 'Quiero escuchar la tormenta abrazada a vos',\n",
       " 'Domingo de lluvia y baj\\\\xf3n. Por m\\\\xed que arranque el lunes en media hora. Ya fue todo.',\n",
       " 'Si la lluvia llega hasta aqu\\\\xed, voy a limitarme a vivir',\n",
       " 'Tremenda tormenta de la madrugada y ahora un sol que parte la tierra, esto es San Luis',\n",
       " 'Tendr\\\\xeda que estar yendo a buscar la ropa de mi promo,pero estoy caminando bajo la lluvia..',\n",
       " 'Trueno v2.0. 2fast2furious. https://t.co/FpS7klRbZo',\n",
       " 'Si se puede jugar Hubo ya una final con lluvia en esa cancha Por las dudas les recuerdo quien fue el campe\\\\xf3n.. #FinalCopaLibertadores #BocavsRiver #CONMEBOLLibertadores @CANOBoficial #EstudioFutbol @TyCSports #LAMEJORFINALenSC https://t.co/ykThUhG0Tl',\n",
       " 'Si llueve ahora por lo menos espero que mañana este nublado, no aguanto el calor\\\\U0001f612',\n",
       " '@J1M1NCUTE @clau4805 @BTS_twt Frio\\\\U0001f60a lluvia\\\\U0001f496 azul\\\\U0001f631 celular\\\\U0001f917 solteras\\\\U0001f602 @BTS_twt #MTVEMABiggestFansBTS',\n",
       " 'Aerol\\\\xedneas-La lluvia.(Seg\\\\xfan San Idiota) \\\\nConfirmado : Jacques Cousteau era de La Cámpora.',\n",
       " 'Queria ir a la pileta, llueve. Empece a ver una serie, se corta la luz',\n",
       " '@FraancoMiletich Jajajajajajaja es que \\\\xfaltimamente la lluvia ni tiempo a nada se larga con todo nomas',\n",
       " 'Quiero alguien para pasar los d\\\\xedas de lluvia',\n",
       " 'Chica la tormenta',\n",
       " 'LLUVIA DE MI VIDA TE AMO CON TODO MI CORAZ\\\\xd3N, GRACIAS MUNDO',\n",
       " 'Que linda lluvia\\\\U0001f60d',\n",
       " '@LautiMarchese Jajaja encima llueve a balde',\n",
       " 'Lo \\\\xfanico que voy a ver a las 2 de la mañana es la tormenta que se está viniendo',\n",
       " 'De nuevo está lloviendo, siempre arruinando mis planes la lluvia de mierda',\n",
       " 'Rayos \\\\U0001f614',\n",
       " 'En la vida real le tengo miedo a los truenos. \\\\nAs\\\\xed estoy . https://t.co/eCs5wgupHv',\n",
       " 'Le puli los rayos y todo, bastante la turra',\n",
       " 'dormir con lluvia\\\\u2665 que maravilla',\n",
       " 'Llueve por qu\\\\xe9 gano Belgrano \\\\U0001f914',\n",
       " 'Como loco si llueve',\n",
       " 'Llueve BARADEL en el Tigre en la asamblea d suteba. Espero q tenga q salir haciendo perrito por el r\\\\xedo Y encima se va a tener q bañar\\\\U0001f923\\\\U0001f923\\\\U0001f923',\n",
       " 'Encima cuando quiero que llueva en temporada de escuela no llueve, alta leche la m\\\\xeda\\\\U0001f602\\\\U0001f494',\n",
       " 'Las intensas lluvias generaron una creciente de casi siete metros en el r\\\\xedo San Antonio\\\\n\\\\nEl agua ingresa con mucha fuerza en el cauce de los r\\\\xedos serranos, luego de varios d\\\\xedas de lluvia que afectan a la regi\\\\xf3n. Se recomienda acatar las \\\\xf3rdenes de Defensa Civil, no intentar \\\\u2026 https://t.co/HF7XhF8atm',\n",
       " '@LuddVeron Que hermoso es dormir bajo la lluvia ahre se re enfermaba',\n",
       " '20h ClimaRafaela: Temp. 19.4 \\\\xb0C, Hum. 95 %, Bar. 999.2 mbar, Lluvia 35.9 mm, Viento 10.8 km/h SO #Weathercloud',\n",
       " 'los truenos me estan dando alto miedo caen re cercaaaa',\n",
       " 'Quien necesita un chongo con este clima, si lo tengo a mi gato que le tiene miedo a la tormenta, entonces se me acuesta encima \\\\U0001f495']"
      ]
     },
     "execution_count": 132,
     "metadata": {},
     "output_type": "execute_result"
    }
   ],
   "source": [
    "normalizacion(msj)"
   ]
  },
  {
   "cell_type": "code",
   "execution_count": 138,
   "metadata": {},
   "outputs": [],
   "source": [
    "lista_ascii = [['bla', 'ja'],['blabla', 'jajaj']]"
   ]
  },
  {
   "cell_type": "code",
   "execution_count": 139,
   "metadata": {},
   "outputs": [
    {
     "data": {
      "text/plain": [
       "[['bla', 'ja'], ['blabla', 'jajaj']]"
      ]
     },
     "execution_count": 139,
     "metadata": {},
     "output_type": "execute_result"
    }
   ],
   "source": [
    "lista_ascii"
   ]
  },
  {
   "cell_type": "code",
   "execution_count": 143,
   "metadata": {},
   "outputs": [
    {
     "data": {
      "text/plain": [
       "'jajaj'"
      ]
     },
     "execution_count": 143,
     "metadata": {},
     "output_type": "execute_result"
    }
   ],
   "source": [
    "lista_ascii[1][1]"
   ]
  },
  {
   "cell_type": "code",
   "execution_count": 172,
   "metadata": {},
   "outputs": [],
   "source": [
    "A= 'á, é, í, ó, ú, ñ, Ñ, Á, É, Í, Ó, Ú, ¡, ¿, Ü, ü, ´, º, ª, ·,Ç,ç,¨'"
   ]
  },
  {
   "cell_type": "code",
   "execution_count": 173,
   "metadata": {},
   "outputs": [
    {
     "data": {
      "text/plain": [
       "'\\\\xe1, \\\\xe9, \\\\xed, \\\\xf3, \\\\xfa, \\\\xf1, \\\\xd1, \\\\xc1, \\\\xc9, \\\\xcd, \\\\xd3, \\\\xda, \\\\xa1, \\\\xbf, \\\\xdc, \\\\xfc, \\\\xb4, \\\\xba, \\\\xaa, \\\\xb7,\\\\xc7,\\\\xe7,\\\\xa8'"
      ]
     },
     "execution_count": 173,
     "metadata": {},
     "output_type": "execute_result"
    }
   ],
   "source": [
    "A.encode('unicode-escape').decode('ASCII')"
   ]
  },
  {
   "cell_type": "code",
   "execution_count": 176,
   "metadata": {},
   "outputs": [],
   "source": [
    " lista_ascii = [['\\\\xe1', '\\\\xe9', '\\\\xed', '\\\\xf3', '\\\\xfa', '\\\\xf1', '\\\\xd1', '\\\\xc1','\\\\xc9', '\\\\xcd', '\\\\xd3', \n",
    "                 '\\\\xda', '\\\\xa1', '\\\\xbf', '\\\\xdc', '\\\\xfc', '\\\\xb4', '\\\\xba', '\\\\xaa', '\\\\xb7','\\\\xc7','\\\\xe7',\n",
    "                 '\\\\xa8'],['á', 'é', 'í', 'ó', 'ú', 'ñ', 'Ñ', 'Á', 'É', 'Í', 'Ó', 'Ú', '¡', '¿', 'Ü', 'ü', '´', \n",
    "                           'º', 'ª', '·','Ç','ç','¨'']]"
   ]
  },
  {
   "cell_type": "code",
   "execution_count": null,
   "metadata": {},
   "outputs": [],
   "source": []
  }
 ],
 "metadata": {
  "kernelspec": {
   "display_name": "Python 3",
   "language": "python",
   "name": "python3"
  },
  "language_info": {
   "codemirror_mode": {
    "name": "ipython",
    "version": 3
   },
   "file_extension": ".py",
   "mimetype": "text/x-python",
   "name": "python",
   "nbconvert_exporter": "python",
   "pygments_lexer": "ipython3",
   "version": "3.6.9"
  }
 },
 "nbformat": 4,
 "nbformat_minor": 2
}
