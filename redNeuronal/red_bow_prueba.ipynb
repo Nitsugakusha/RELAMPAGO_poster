{
 "cells": [
  {
   "cell_type": "markdown",
   "metadata": {},
   "source": [
    "# Detección de tweets meteorológicos con Bag of Words"
   ]
  },
  {
   "cell_type": "code",
   "execution_count": 77,
   "metadata": {},
   "outputs": [],
   "source": [
    "import torch\n",
    "import torch.autograd as autograd\n",
    "import torch.nn as nn\n",
    "import torch.nn.functional as F\n",
    "import torch.optim as optim\n",
    "\n",
    "import pandas as pd"
   ]
  },
  {
   "cell_type": "markdown",
   "metadata": {},
   "source": [
    "#### Cargo la base de datos clasificada y genero las variables de importancia"
   ]
  },
  {
   "cell_type": "code",
   "execution_count": 78,
   "metadata": {},
   "outputs": [],
   "source": [
    "tw = pd.read_csv('base_corr.csv')"
   ]
  },
  {
   "cell_type": "code",
   "execution_count": 79,
   "metadata": {},
   "outputs": [
    {
     "data": {
      "text/plain": [
       "Index(['Twit', 'Tag', 'Num'], dtype='object')"
      ]
     },
     "execution_count": 79,
     "metadata": {},
     "output_type": "execute_result"
    }
   ],
   "source": [
    "tw.keys()[-3:]"
   ]
  },
  {
   "cell_type": "code",
   "execution_count": 89,
   "metadata": {},
   "outputs": [],
   "source": [
    "msj = tw['Twit']\n",
    "tag = tw['Tag']\n",
    "num = tw['Num']"
   ]
  },
  {
   "cell_type": "code",
   "execution_count": 90,
   "metadata": {},
   "outputs": [
    {
     "data": {
      "text/plain": [
       "0                                         Esta lloviendo\n",
       "1      quiero ir al centro a la mañana pero seguro ll...\n",
       "2                   @paloma_CAI7 Si, llueve y mucho !! 😒\n",
       "3                       @rozalazar9 Si llueve les hago 🤗\n",
       "4      Hasta cuándo le voy a seguir teniendo miedo a ...\n",
       "5      13h ClimaRafaela: Temp. 20.9 °C, Hum. 48 %, Ba...\n",
       "6      @Eze2450 Sea la estación que sea , no hay plat...\n",
       "7      Llueve y no tengo Internet...me espera tremend...\n",
       "8                            Que linda noche de lluvia 💖\n",
       "9      Miércoles de mucho calor, previo a las lluvias...\n",
       "10     Me gusta cuando llueve porque parece que se es...\n",
       "11     Noviembre sin ti es sentir que la lluvia me di...\n",
       "12     17h Agvnet CDU: Temp. 32.4 °C, Hum. 33 %, Bar....\n",
       "13      Con esta lluvia me dieron ganas de cucharear ! 😏\n",
       "14                               Y se largo la lluvia ☔💕\n",
       "15                                  Que hermosa tormenta\n",
       "16                         @joaquinv17 dan lluvia jajaja\n",
       "17     Aseguran que hay stock suficiente de bengalas ...\n",
       "18     Aprobé un final con 8, tomé cervezas con amigo...\n",
       "19            Llueve pq Sebastian se levanto simpático😂😂\n",
       "20       @valenzampani Horrible todo. Por eso llueve así\n",
       "21     Mí padre dice que ahora se van a tener que pon...\n",
       "22     buena, que le pasaba al clima jajaja de donde ...\n",
       "23     Que onda?? Llueve, sale el sol, llueve, sale e...\n",
       "24                 Lo hermoso que son los días de lluvia\n",
       "25     Que vergüenza ver a otros humanos en bicicleta...\n",
       "26     Mi plan es dormirme escuchando los temas de fa...\n",
       "27     23h Agvnet CDU: Temp. 20.7 °C, Hum. 94 %, Bar....\n",
       "28                      Como me hace mambear esta lluvia\n",
       "29     Estaría para q venga una re tormenta y q dure ...\n",
       "                             ...                        \n",
       "98     Si la lluvia llega hasta aquí, voy a limitarme...\n",
       "99     Tremenda tormenta de la madrugada y ahora un s...\n",
       "100    Tendría que estar yendo a buscar la ropa de mi...\n",
       "101    Trueno v2.0. 2fast2furious. https://t.co/FpS7k...\n",
       "102    Si se puede jugar! Hubo ya una final con lluvi...\n",
       "103    Si llueve ahora por lo menos espero que mañana...\n",
       "104    @J1M1NCUTE @clau4805 @BTS_twt Frio😊 lluvia💖 az...\n",
       "105    Aerolíneas-La lluvia.(Según San Idiota) \\nConf...\n",
       "106    Queria ir a la pileta, llueve. Empece a ver un...\n",
       "107    @FraancoMiletich Jajajajajajaja es que últimam...\n",
       "108         Quiero alguien para pasar los días de lluvia\n",
       "109                                    Chica la tormenta\n",
       "110    LLUVIA DE MI VIDA TE AMO CON TODO MI CORAZÓN, ...\n",
       "111                                    Que linda lluvia😍\n",
       "112         @LautiMarchese Jajaja encima llueve a balde!\n",
       "113    Lo único que voy a ver a las 2 de la mañana es...\n",
       "114    De nuevo está lloviendo, siempre arruinando mi...\n",
       "115                                              Rayos 😔\n",
       "116    En la vida real le tengo miedo a los truenos. ...\n",
       "117          Le puli los rayos y todo, bastante la turra\n",
       "118                     dormir con lluvia♥ que maravilla\n",
       "119                      Llueve por qué gano Belgrano ?🤔\n",
       "120                                  Como loco si llueve\n",
       "121    Llueve!! BARADEL en el Tigre en la asamblea d ...\n",
       "122    Encima cuando quiero que llueva en temporada d...\n",
       "123    Las intensas lluvias generaron una creciente d...\n",
       "124    @LuddVeron Que hermoso es dormir bajo la lluvi...\n",
       "125    20h ClimaRafaela: Temp. 19.4 °C, Hum. 95 %, Ba...\n",
       "126    los truenos me estan dando alto miedo caen re ...\n",
       "127    Quien necesita un chongo con este clima, si lo...\n",
       "Name: Twit, Length: 128, dtype: object"
      ]
     },
     "execution_count": 90,
     "metadata": {},
     "output_type": "execute_result"
    }
   ],
   "source": [
    "msj"
   ]
  },
  {
   "cell_type": "markdown",
   "metadata": {},
   "source": [
    "#### Elimino las cosas innecesarias de msj"
   ]
  },
  {
   "cell_type": "code",
   "execution_count": 290,
   "metadata": {},
   "outputs": [],
   "source": [
    "def normalizacion(mensaje):\n",
    "    \n",
    "    mensaje = list(mensaje)\n",
    "    lenght = len(mensaje)\n",
    "    \n",
    "    lista_ascii = [['\\\\xe1', '\\\\xe9', '\\\\xed', '\\\\xf3', '\\\\xfa', '\\\\xf1', '\\\\xd1', '\\\\xc1','\\\\xc9', '\\\\xcd', '\\\\xd3', \n",
    "                 '\\\\xda', '\\\\xa1', '\\\\xbf', '\\\\xdc', '\\\\xfc', '\\\\xb4', '\\\\xba', '\\\\xaa', '\\\\xb7','\\\\xc7','\\\\xe7',\n",
    "                 '\\\\xa8', '\\\\xb0C', '\\\\n', '\\\\xb0c', '\\\\xbb', 'xb0'],['á', 'é', 'í', 'ó', 'ú', 'ñ', 'Ñ', 'Á', 'É', 'Í', 'Ó', 'Ú', '', '', 'Ü', 'ü', '', \n",
    "                           ' ', '', '','Ç','ç','', ' ', ' ', ' ', ' ', ' ']]\n",
    "    lista_simb = ['!','\\'', '\\\"', \"|\", '$', \"%\", \"&\", \"(\", \")\", \"=\", \"?\", \"+\",'/', \";\", \"_\", \"-\", \"1\",\"2\",\"3\",\"4\",\"5\",\"6\",\"7\",\"8\",\"9\",\"0\", '*',',', '.', ':', '#']\n",
    "    \n",
    "    for i in range(lenght):\n",
    "        \n",
    "        ## Convierto mayúsculas en minúsculas\n",
    "        mensaje[i] = mensaje[i].lower()\n",
    "        \n",
    "        ## Saco las menciones y otras cosas\n",
    "        txt = mensaje[i].split()\n",
    "        \n",
    "        for j in range(len(txt)):\n",
    "            if ('@' in txt[j]) and ('RELAMPAGO2018' not in txt[j]) and ('RELAMPAGO_edu' not in txt[j]) or ('jaj' in txt[j]) or ('https' in txt[j]): txt[j]=''\n",
    "        \n",
    "        mensaje[i] = \" \".join(txt)\n",
    "        \n",
    "        ## Reemplazo símbolos\n",
    "        for h in range(len(lista_simb)):\n",
    "            mensaje[i] = mensaje[i].replace(lista_simb[h], ' ')\n",
    "            \n",
    "        ## Convierto el msj a ASCII, reemplazo los errores de decodificación y agrego un espacio antes de cada decodificación\n",
    "        mensaje[i] = mensaje[i].encode('unicode-escape').decode('ASCII')+\" \"     \n",
    "        \n",
    "        for j in range(len(lista_ascii[0])):\n",
    "            mensaje[i] = mensaje[i].replace(lista_ascii[0][j], lista_ascii[1][j])\n",
    "        \n",
    "        mensaje[i] = mensaje[i].replace('\\\\', ' \\\\')\n",
    "        \n",
    "    return(mensaje)"
   ]
  },
  {
   "cell_type": "code",
   "execution_count": 291,
   "metadata": {},
   "outputs": [],
   "source": [
    "msj_corr = normalizacion(msj)"
   ]
  },
  {
   "cell_type": "code",
   "execution_count": 292,
   "metadata": {},
   "outputs": [
    {
     "data": {
      "text/plain": [
       "['esta lloviendo ',\n",
       " 'quiero ir al centro a la mañana pero seguro llueve  ',\n",
       " ' si  llueve y mucho  \\\\U0001f612 ',\n",
       " ' si llueve les hago  \\\\U0001f917 ',\n",
       " 'hasta cuándo le voy a seguir teniendo miedo a las tormentas  \\\\U0001f644 \\\\U0001f623 ',\n",
       " '  h climarafaela  temp          hum        bar         mbar  lluvia     mm  viento      km h sso  weathercloud ',\n",
       " ' sea la estación que sea   no hay plata y ahora llueve   que te cambia  tenés que estudiar igual ',\n",
       " 'llueve y no tengo internet   me espera tremenda tarde ',\n",
       " 'que linda noche de lluvia  \\\\U0001f496 ',\n",
       " 'miércoles de mucho calor  previo a las lluvias  ',\n",
       " 'me gusta cuando llueve porque parece que se estan fritando empanadas  puesgorda  \\\\U0001f602 ',\n",
       " 'noviembre sin ti es sentir que la lluvia me dice llorando que todo acabó  \\\\U0001f3b5 ',\n",
       " '  h agvnet cdu  temp          hum        bar        hpa  lluvia   mm  viento      km h se  weathercloud ',\n",
       " 'con esta lluvia me dieron ganas de cucharear  \\\\U0001f60f ',\n",
       " 'y se largo la lluvia  \\\\u2614 \\\\U0001f495 ',\n",
       " 'que hermosa tormenta ',\n",
       " ' dan lluvia  ',\n",
       " 'aseguran que hay stock suficiente de bengalas para combatir tormentas  ',\n",
       " 'aprobé un final con    tomé cervezas con amigos  estuve con mi novio  comi milanesa a la napolitana  me bañé con agua hirviendo y estoy por dormirme en sábanas limpias con la lluvia de fondo y mi gato al lado  me siento más que realizada  ',\n",
       " 'llueve pq sebastian se levanto simpático \\\\U0001f602 \\\\U0001f602 ',\n",
       " ' horrible todo  por eso llueve así ',\n",
       " 'mí padre dice que ahora se van a tener que poner a jugar  yo mientras miro si se forma tormenta o no  \\\\U0001f615 ',\n",
       " 'buena  que le pasaba al clima  de donde salio esta lluvia ',\n",
       " 'que onda llueve  sale el sol  llueve  sale el sol  el tiempo está mas loco que yo  ',\n",
       " 'lo hermoso que son los días de lluvia ',\n",
       " 'que vergüenza ver a otros humanos en bicicleta buscando refugio en plena tormenta    que poca alma bicicletera ',\n",
       " 'mi plan es dormirme escuchando los temas de fasciolo con el ruido de la lluvia de fondo y haciendo cucharita con mi gata ',\n",
       " '  h agvnet cdu  temp          hum        bar         hpa  lluvia   mm  viento     km h ne  weathercloud ',\n",
       " 'como me hace mambear esta lluvia ',\n",
       " 'estaría para q venga una re tormenta y q dure hasta mañana  ',\n",
       " ' villamaria       hs   temp       min               max                 hum      viento      km h ene  pres       hpa lluvia     mm ',\n",
       " ' sin dudas usted gobernador querido es el mejor piloto de tormentas ',\n",
       " 'en santa fe llueve ',\n",
       " 'adivinen quien se mojó gracias tormenta ',\n",
       " 'me ha gustado un vídeo de       temporada     se acerca una tormenta fortnite  battle royale   ',\n",
       " 'recién me despierto de la siesta    con esta lluvia quien no duerme   igual hubiera estado más piola si dormíamos la siesta juntos ahre ',\n",
       " 'sos hermosa \\\\U0001f60d  \\\\u2014 abran los paraguas para la lluvia de datos  ',\n",
       " 'netflix   lluvia   perfeccion ',\n",
       " ' aaaaay si boludo que tormenta horrible ',\n",
       " 'me cansó la lluvia ',\n",
       " 'ojalá me pusiera mimosa    la lluvia me pone más gorda de lo que soy  ',\n",
       " 'que hermosa lluvia \\\\U0001f495 ',\n",
       " 'vieron que en córdoba hay gente estudiando las tormentas  bueno  creo que con esta hacían la tesis ',\n",
       " 'el tiempo  en santa fe  barrio constituyentes t        h      st        p        hpa lluvia hoy     mm  ',\n",
       " 'no se   pero yo amo dormir con lluvia man ',\n",
       " '  h agvnet cdu  temp          hum        bar         hpa  lluvia   mm  viento     km h ne  weathercloud ',\n",
       " 'que la lluvia pase de largooooo  quiero salir manga de forros ',\n",
       " 'se levantó tormenta de un rato a otro ',\n",
       " 'salir al patio y escuchar los truenos en dolby surround      ',\n",
       " 'lea en estaciónplus anuncian hasta    \\\\  y más de     mm de lluvias en entre ríos este fin de año  advierten por fenómenos meteorológicos de alto impacto en los próximos días  el      empezará lluvioso  mirá el informe especial para la provincia y la región   ',\n",
       " 'encima q lindo andar bajo la lluvia  \\\\U0001f60d \\\\U0001f60d \\\\U0001f60d \\\\U0001f60d q feo el calor del departamento  \\\\U0001f62d \\\\U0001f62d \\\\U0001f62d \\\\U0001f62d ',\n",
       " 'datos actuales en  santafe barrio candioti norte  t        h      st        p        hpa lluvia hoy     mm ',\n",
       " 'uno de los placeres de la vida    dormir mientras llueve \\\\U0001f49e ',\n",
       " 'hay que dormir nomas dice la lluvia ',\n",
       " '  el video es otro tema  porque depende de la complejidad que quiera darle al archivo  si son sólo fotos o si son videos  mañana paso data porque estoy bajo tormenta de lpm y se corta la luz q cada rato     ',\n",
       " ' es el uno   cuando wos   cacha   trueno  etc  estaban en el quinto el y dtoke ya estaban en la red bulls inter  una bestia  ',\n",
       " 'que ganas de hacer cucharita con mi wacho con esta lluvia ',\n",
       " 'ya sabemos que llueve  manga de forros ',\n",
       " 're xxl la lluvia ',\n",
       " 'venia del gym en plena tormenta re relajada  me cruza un hombre y me dice  corre que se vienen las piedras  cai en que podía ser posible y empecé a correr  ',\n",
       " 'por fin lluvia hdp ',\n",
       " 'tengo ganas de salir a bicicletear pero viendo sus fotos y vídeos de piedras y lluvia me dio miedo  es su culpa jeje ahre ',\n",
       " 'dormi lindo che  te extrañaba lluvia ',\n",
       " 'el miedo que le agarre a las tormentas de noche  \\\\U0001f613 ',\n",
       " 'vete de aquí tormenta  ',\n",
       " 'y llegó la tan ansiada lluvia  \\\\U0001f600 ',\n",
       " 'alguien está escuchando esos truenos ',\n",
       " 'se ve que la tormenta fue copada porque tiro el árbol locoooooo ',\n",
       " 'a una hora de ir a trabajar  y llueve como locos en camilo aldao ',\n",
       " 'mi viejo que cae un rayo y corta la luz ',\n",
       " 'haganse el favor de salir a mirar el cielo  que belleza  casi no se ve la lluvia de estrellas  pero igual el cielo esta lleno ',\n",
       " 'los días de lluvia \\\\U0001f60d ',\n",
       " 'ancohe me desperté por un rayo y lo primero que pensé fue oigan muchaho ecucharon el rempalago tengo la mente matada ya ',\n",
       " 'se larga la lluvia  fijar este tuit  ',\n",
       " 'no sé a mi la lluvia no me motiva para nada a estudiar  solo quiero dormir ',\n",
       " 'estamos en una época en que nos chupa un huevo el otro  donde sólo nos importa cagarnos en el esfuerzo que hacen  en su persona y nos chupa un huevo cómo se sienta  si total  yo estoy bien  el resto    que lo parta un rayo ',\n",
       " 'si llueve ya saben porque es  estoy yendo al colegio ',\n",
       " 'dato de lluvia caída en gualeguay    ',\n",
       " ' ssssshhh deja la lluvia tranquila para los que vamos a dormir siesta  \\\\U0001f61d ',\n",
       " 'ta para desmayarse con esta lluvia ',\n",
       " 'amo ver cómo están las canchas con la lluvia para mi es admirable ver cómo con tanta lluvia algunos campos están impecables ',\n",
       " 'como no te cae un rayo en la cabeza la re concha de tu madre  ',\n",
       " ' \\\\U0001f327 la imagen satelital de esta mañana del  muestra un gran frente de tormenta que abarca el sur de santa fe  la provincia de entre rios y el noreste de la provincia de buenos aires   \\\\u2600 clima despejado para el resto de las zonas productoras           ',\n",
       " 'ya veo que se va a largar a llover o cuando salga de mi casa o cuando este volviendo  porque la lluvia me odiaaa \\\\U0001f926 \\\\U0001f3fc ',\n",
       " '  h agvnet cdu  temp          hum        bar         hpa  lluvia   mm  viento      km h n  weathercloud ',\n",
       " 'que ganas de estar con mi vida viendo peliculas mientras escuchando como llueve ',\n",
       " 'ay esta lluvia que no quiere parar che  \\\\U0001f649 ',\n",
       " 'ke lluvia re culiadaw ',\n",
       " 'un hermoso día el de hoy ay qué bello día es hoy está para desatar nuestra tormenta que va a tronar por el dolor  ',\n",
       " 'maldigo las veredas hechas mierdas en momentos de lluvia  \\\\U0001f620 \\\\U0001f611 ',\n",
       " ' es que estamos brasil  llueve con el calor a    grados y el sol mirándote así  \\\\U0001f31d ',\n",
       " 'para que anduve en la klx ahora tengo ganas de prenderla fuego a la tornado ',\n",
       " '  seguro tormenta eléctrica    ',\n",
       " 'lluvia y la re calcada concha de tu madre  \\\\U0001f624 \\\\U0001f62d ',\n",
       " 'pedido solidario para afectados por las lluvias  ',\n",
       " ' es porque en un rato llega la tormenta de facha a paraná ',\n",
       " 'quiero escuchar la tormenta abrazada a vos ',\n",
       " 'domingo de lluvia y bajón  por mí que arranque el lunes en media hora  ya fue todo  ',\n",
       " 'si la lluvia llega hasta aquí  voy a limitarme a vivir ',\n",
       " 'tremenda tormenta de la madrugada y ahora un sol que parte la tierra  esto es san luis ',\n",
       " 'tendría que estar yendo a buscar la ropa de mi promo pero estoy caminando bajo la lluvia   ',\n",
       " 'trueno v      fast furious   ',\n",
       " 'si se puede jugar hubo ya una final con lluvia en esa cancha por las dudas les recuerdo quien fue el campeón    finalcopalibertadores  bocavsriver  conmebollibertadores   estudiofutbol   lamejorfinalensc  ',\n",
       " 'si llueve ahora por lo menos espero que mañana este nublado  no aguanto el calor \\\\U0001f612 ',\n",
       " '   frio \\\\U0001f60a lluvia \\\\U0001f496 azul \\\\U0001f631 celular \\\\U0001f917 solteras \\\\U0001f602   mtvemabiggestfansbts ',\n",
       " 'aerolíneas la lluvia  según san idiota  confirmado   jacques cousteau era de la cámpora  ',\n",
       " 'queria ir a la pileta  llueve  empece a ver una serie  se corta la luz ',\n",
       " '  es que últimamente la lluvia ni tiempo a nada se larga con todo nomas ',\n",
       " 'quiero alguien para pasar los días de lluvia ',\n",
       " 'chica la tormenta ',\n",
       " 'lluvia de mi vida te amo con todo mi corazón  gracias mundo ',\n",
       " 'que linda lluvia \\\\U0001f60d ',\n",
       " '  encima llueve a balde ',\n",
       " 'lo único que voy a ver a las   de la mañana es la tormenta que se está viniendo ',\n",
       " 'de nuevo está lloviendo  siempre arruinando mis planes la lluvia de mierda ',\n",
       " 'rayos  \\\\U0001f614 ',\n",
       " 'en la vida real le tengo miedo a los truenos  así estoy    ',\n",
       " 'le puli los rayos y todo  bastante la turra ',\n",
       " 'dormir con lluvia \\\\u2665 que maravilla ',\n",
       " 'llueve por qué gano belgrano  \\\\U0001f914 ',\n",
       " 'como loco si llueve ',\n",
       " 'llueve baradel en el tigre en la asamblea d suteba  espero q tenga q salir haciendo perrito por el río y encima se va a tener q bañar \\\\U0001f923 \\\\U0001f923 \\\\U0001f923 ',\n",
       " 'encima cuando quiero que llueva en temporada de escuela no llueve  alta leche la mía \\\\U0001f602 \\\\U0001f494 ',\n",
       " 'las intensas lluvias generaron una creciente de casi siete metros en el río san antonio el agua ingresa con mucha fuerza en el cauce de los ríos serranos  luego de varios días de lluvia que afectan a la región  se recomienda acatar las órdenes de defensa civil  no intentar  \\\\u2026  ',\n",
       " ' que hermoso es dormir bajo la lluvia ahre se re enfermaba ',\n",
       " '  h climarafaela  temp          hum        bar        mbar  lluvia      mm  viento      km h so  weathercloud ',\n",
       " 'los truenos me estan dando alto miedo caen re cercaaaa ',\n",
       " 'quien necesita un chongo con este clima  si lo tengo a mi gato que le tiene miedo a la tormenta  entonces se me acuesta encima  \\\\U0001f495 ']"
      ]
     },
     "execution_count": 292,
     "metadata": {},
     "output_type": "execute_result"
    }
   ],
   "source": [
    "msj_corr"
   ]
  },
  {
   "cell_type": "code",
   "execution_count": null,
   "metadata": {},
   "outputs": [],
   "source": []
  }
 ],
 "metadata": {
  "kernelspec": {
   "display_name": "Python 3",
   "language": "python",
   "name": "python3"
  },
  "language_info": {
   "codemirror_mode": {
    "name": "ipython",
    "version": 3
   },
   "file_extension": ".py",
   "mimetype": "text/x-python",
   "name": "python",
   "nbconvert_exporter": "python",
   "pygments_lexer": "ipython3",
   "version": "3.6.9"
  }
 },
 "nbformat": 4,
 "nbformat_minor": 2
}
