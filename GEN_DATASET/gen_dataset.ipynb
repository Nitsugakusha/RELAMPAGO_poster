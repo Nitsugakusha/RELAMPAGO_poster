{
  "nbformat": 4,
  "nbformat_minor": 0,
  "metadata": {
    "colab": {
      "name": "gen_dataset.ipynb",
      "provenance": [],
      "collapsed_sections": []
    },
    "kernelspec": {
      "name": "python3",
      "display_name": "Python 3"
    }
  },
  "cells": [
    {
      "cell_type": "markdown",
      "metadata": {
        "id": "pLTDschjc-W8",
        "colab_type": "text"
      },
      "source": [
        "# Una ayuda para nuestro proyecto de verificación por Twitter! ♥"
      ]
    },
    {
      "cell_type": "markdown",
      "metadata": {
        "id": "FAgsa5Codagx",
        "colab_type": "text"
      },
      "source": [
        "### Necesitamos armar una base de datos de tweets \"meteorológicos\" y \"no meteorológicos\".\n",
        "### Para correr las celdas tocá el símbolo de \"play\" a la izquierda de cada celda, o parate en la celda y hacé shift+enter. \n",
        "### Antes de correr el programa tenés que copiar la carpeta a tu drive. Andá a shared with me -> click derecho sobre la carpeta GenDatasets_Train_Test -> agregar a My Drive y abrir el programa desde ahí\n",
        "### Hay que correr todas las celdas EN ORDEN para que funcione.\n",
        "### La celda para identificar tweets es interactiva, te aparece un rectángulo y tenés que escribir ahí. Ingresar 1 si el tweet es meteorológico y 0 si el tweet es no meteorológico. Si querés dejar de correr el programa escribí noseinundamas.\n",
        "### Hay recompensa de caramelos ♥"
      ]
    },
    {
      "cell_type": "markdown",
      "metadata": {
        "id": "dnMek49HQ2F2",
        "colab_type": "text"
      },
      "source": [
        "Celda para cargar paquetes de python"
      ]
    },
    {
      "cell_type": "code",
      "metadata": {
        "id": "SaXpQSKPdM5l",
        "colab_type": "code",
        "colab": {}
      },
      "source": [
        "\n",
        "import pandas as pd \n",
        "import numpy as np\n",
        "from IPython.display import clear_output "
      ],
      "execution_count": 0,
      "outputs": []
    },
    {
      "cell_type": "markdown",
      "metadata": {
        "id": "8_UWI75cQ77V",
        "colab_type": "text"
      },
      "source": [
        "Celda para asociar al drive. \n",
        "Dar click en el link que aparece, se abre un pestaña nueva, aceptar los permisos, copiar el código que aparece al final y pegarlo en el recuadro que aparece acá abajo."
      ]
    },
    {
      "cell_type": "code",
      "metadata": {
        "id": "LyKqGGs1gV3g",
        "colab_type": "code",
        "outputId": "31b5a583-8b5f-4696-b717-6fd001b6c1ee",
        "colab": {
          "base_uri": "https://localhost:8080/",
          "height": 34
        }
      },
      "source": [
        "from google.colab import drive\n",
        "drive.mount('/content/drive')"
      ],
      "execution_count": 0,
      "outputs": [
        {
          "output_type": "stream",
          "text": [
            "Drive already mounted at /content/drive; to attempt to forcibly remount, call drive.mount(\"/content/drive\", force_remount=True).\n"
          ],
          "name": "stdout"
        }
      ]
    },
    {
      "cell_type": "markdown",
      "metadata": {
        "id": "7Xfza3WIRXLk",
        "colab_type": "text"
      },
      "source": [
        "Si esto no funciona, mandar mensajito a Mechi con una foto de la celda y el error:"
      ]
    },
    {
      "cell_type": "code",
      "metadata": {
        "id": "vzxEt-PImNAs",
        "colab_type": "code",
        "outputId": "0bce4d71-cfda-411d-99b2-b79422ed09fe",
        "colab": {
          "base_uri": "https://localhost:8080/",
          "height": 34
        }
      },
      "source": [
        "direc = \"/content/drive/My Drive/GenDatasets_Train_Test/\"\n",
        "\n",
        "!ls \"{direc}\""
      ],
      "execution_count": 0,
      "outputs": [
        {
          "output_type": "stream",
          "text": [
            "base_corr.csv  gen_dataset.ipynb  tweets.csv\n"
          ],
          "name": "stdout"
        }
      ]
    },
    {
      "cell_type": "code",
      "metadata": {
        "id": "tmBzcHcVm6EG",
        "colab_type": "code",
        "colab": {}
      },
      "source": [
        "# Read all tweets from raw dataset:\n",
        "tw = pd.read_csv(direc + \"tweets.csv\", \";\")\n",
        "msj = tw.text\n",
        "\n",
        "# Read final dataset:\n",
        "db = pd.read_csv(direc + \"base_corr.csv\")"
      ],
      "execution_count": 0,
      "outputs": []
    },
    {
      "cell_type": "markdown",
      "metadata": {
        "id": "RwH7WJFYRktz",
        "colab_type": "text"
      },
      "source": [
        "***Aquí viene lo bueno jóvenes***\n",
        "\n",
        "Celda interactiva. Responder 1 si es meteorológico y 0 si es no meteorológico. Para que termine el programa escribir noseinundamas"
      ]
    },
    {
      "cell_type": "code",
      "metadata": {
        "id": "wiX6A2KRp5xP",
        "colab_type": "code",
        "outputId": "0aa71ebd-f2f1-4e6a-caf9-18619ce0842f",
        "colab": {
          "base_uri": "https://localhost:8080/",
          "height": 86
        }
      },
      "source": [
        "print(\"Ingresa tu nombre (te conviene que sea el mismo siempre): \")\n",
        "nombre = input()\n",
        "\n",
        "rta = 0\n",
        "i = 0\n",
        "while  str(rta) !='noseinundamas':\n",
        "    i = i+1\n",
        "    m = np.random.randint(0,len(msj))\n",
        "    if msj[m] not in db.Twit.values:\n",
        "        \n",
        "        print('\\n'+msj[m] + '\\n Es meteorológico?? (Si queres liberarte escribí \"noseinundamas\") \\n')\n",
        "        rta = input()\n",
        "        \n",
        "        clear_output()\n",
        "        if (rta != '1') and (rta != '0') and (rta != 'noseinundamas'): print('\\033[94m \\n Porfis contestar con 1 o 0 \\n \\033[0m')\n",
        "        else: \n",
        "            if rta == 'noseinundamas':continue\n",
        "            else: rta = int(rta)\n",
        "            db = db.append({'Twit':msj[m],'Tag':rta, 'Num':m,'Nombre':nombre},ignore_index=True)\n",
        "\n",
        "            \n",
        "\n",
        "caramelos = int(i/10)\n",
        "print(\"Te ganaste \" + str(1+caramelos) + \" caramelos!! :D\")\n",
        "!rm \"{direc}base_corr.csv\"\n",
        "db.to_csv(\"base_corr.csv\")\n",
        "!cp base_corr.csv \"{direc}\""
      ],
      "execution_count": 0,
      "outputs": [
        {
          "output_type": "stream",
          "text": [
            "\n",
            "#VillaMaria 21:00 hs | Temp 23.3°C Min=13.0°C (06:05) Max=30.1°C (16:42) | Hum.36 | Viento 3.6 km/h NE, Pres.989.7 hpa Lluvia   0.0 mm\n",
            " Es meteorológico?? (Si queres liberarte escribí \"noseinundamas\") \n",
            "\n"
          ],
          "name": "stdout"
        }
      ]
    },
    {
      "cell_type": "code",
      "metadata": {
        "id": "r2JtzA4jwuIN",
        "colab_type": "code",
        "colab": {}
      },
      "source": [
        ""
      ],
      "execution_count": 0,
      "outputs": []
    }
  ]
}